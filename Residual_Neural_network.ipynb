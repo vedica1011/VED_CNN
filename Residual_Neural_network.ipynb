{
 "cells": [
  {
   "cell_type": "code",
   "execution_count": 1,
   "id": "4843c2c0",
   "metadata": {},
   "outputs": [],
   "source": [
    "from tensorflow.keras import layers\n",
    "import tensorflow_addons as tfa\n",
    "import tensorflow as tf\n",
    "\n",
    "import numpy as np\n",
    "import matplotlib.pyplot as plt\n",
    "\n",
    "tf.random.set_seed(42)\n",
    "np.random.seed(42)"
   ]
  },
  {
   "cell_type": "code",
   "execution_count": 24,
   "id": "fbfa4c3c",
   "metadata": {},
   "outputs": [],
   "source": [
    "import tensorflow as tf\n",
    "from skimage.transform import resize\n",
    "\n",
    "from tensorflow.keras.regularizers import l2\n",
    "# tf.logging.set_verbosity(tf.logging.ERROR)\n",
    "from tensorflow.keras.models import Model\n",
    "from tensorflow.keras.applications import mobilenet_v2, mobilenet, resnet50, densenet\n",
    "from tensorflow.keras.layers import Dense, MaxPooling2D, Conv2D, Flatten, \\\n",
    "    BatchNormalization, Activation, GlobalAveragePooling2D, DepthwiseConv2D, \\\n",
    "    Dropout, ReLU, Concatenate, Conv2DTranspose, Input, add\n",
    "\n",
    "from tensorflow.keras.callbacks import ModelCheckpoint\n",
    "from tensorflow.keras import backend as K\n",
    "\n",
    "from tensorflow.keras.optimizers import Adam\n",
    "import numpy as np\n",
    "import matplotlib.pyplot as plt\n",
    "import math\n",
    "from tensorflow.keras.callbacks import CSVLogger\n",
    "from datetime import datetime\n",
    "\n",
    "import cv2\n",
    "import os.path\n",
    "from tensorflow.keras.utils import plot_model\n",
    "from scipy.spatial import distance\n",
    "import scipy.io as sio"
   ]
  },
  {
   "cell_type": "code",
   "execution_count": 2,
   "id": "091f8965",
   "metadata": {},
   "outputs": [],
   "source": [
    "(x_train, y_train), (x_test, y_test) = tf.keras.datasets.mnist.load_data()"
   ]
  },
  {
   "cell_type": "code",
   "execution_count": 3,
   "id": "30df2597",
   "metadata": {},
   "outputs": [],
   "source": [
    "x_val = x_train[-5000:]\n",
    "y_val = y_train[-5000:]\n",
    "x_train = x_train[:-5000]\n",
    "y_train = y_train[:-5000]"
   ]
  },
  {
   "cell_type": "code",
   "execution_count": 4,
   "id": "ddda6e66",
   "metadata": {},
   "outputs": [
    {
     "data": {
      "text/plain": [
       "(55000, 28, 28)"
      ]
     },
     "execution_count": 4,
     "metadata": {},
     "output_type": "execute_result"
    }
   ],
   "source": [
    "x_train.shape"
   ]
  },
  {
   "cell_type": "code",
   "execution_count": 5,
   "id": "55969e79",
   "metadata": {},
   "outputs": [
    {
     "data": {
      "text/plain": [
       "(5000, 28, 28)"
      ]
     },
     "execution_count": 5,
     "metadata": {},
     "output_type": "execute_result"
    }
   ],
   "source": [
    "x_val.shape"
   ]
  },
  {
   "cell_type": "code",
   "execution_count": 7,
   "id": "3b2a60f9",
   "metadata": {},
   "outputs": [
    {
     "data": {
      "text/plain": [
       "(55000,)"
      ]
     },
     "execution_count": 7,
     "metadata": {},
     "output_type": "execute_result"
    }
   ],
   "source": [
    "y_train.shape"
   ]
  },
  {
   "cell_type": "code",
   "execution_count": 8,
   "id": "d4814735",
   "metadata": {},
   "outputs": [],
   "source": [
    "# adding one dimension to each as its black & white having one channel\n",
    "x_train = x_train.reshape(x_train.shape[0], x_train.shape[1], x_train.shape[2], 1)\n",
    "x_val = x_val.reshape(x_val.shape[0], x_val.shape[1], x_val.shape[2], 1)\n",
    "x_test = x_test.reshape(x_test.shape[0], x_test.shape[1], x_test.shape[2], 1)"
   ]
  },
  {
   "cell_type": "code",
   "execution_count": 9,
   "id": "eb5157ff",
   "metadata": {},
   "outputs": [
    {
     "data": {
      "text/plain": [
       "(55000, 28, 28, 1)"
      ]
     },
     "execution_count": 9,
     "metadata": {},
     "output_type": "execute_result"
    }
   ],
   "source": [
    "x_train.shape"
   ]
  },
  {
   "cell_type": "code",
   "execution_count": 10,
   "id": "4f1ab237",
   "metadata": {},
   "outputs": [
    {
     "data": {
      "text/plain": [
       "(5000, 28, 28, 1)"
      ]
     },
     "execution_count": 10,
     "metadata": {},
     "output_type": "execute_result"
    }
   ],
   "source": [
    "x_val.shape"
   ]
  },
  {
   "cell_type": "code",
   "execution_count": 11,
   "id": "557771b2",
   "metadata": {},
   "outputs": [
    {
     "data": {
      "text/plain": [
       "(10000, 28, 28, 1)"
      ]
     },
     "execution_count": 11,
     "metadata": {},
     "output_type": "execute_result"
    }
   ],
   "source": [
    "x_test.shape"
   ]
  },
  {
   "cell_type": "code",
   "execution_count": 12,
   "id": "eead8f3b",
   "metadata": {},
   "outputs": [],
   "source": [
    "# Normalising\n",
    "x_train = x_train/255.0\n",
    "x_val = x_val/255.0\n",
    "x_test = x_test/255.0"
   ]
  },
  {
   "cell_type": "code",
   "execution_count": 16,
   "id": "2559be1a",
   "metadata": {},
   "outputs": [],
   "source": [
    "input_shape=[28, 28, 1]\n",
    "output_shape=10"
   ]
  },
  {
   "cell_type": "code",
   "execution_count": 17,
   "id": "d527190a",
   "metadata": {},
   "outputs": [],
   "source": [
    "# convert labels to categorical\n",
    "y_train = tf.keras.utils.to_categorical(y_train, output_shape)\n",
    "y_val = tf.keras.utils.to_categorical(y_val, output_shape)\n",
    "y_test = tf.keras.utils.to_categorical(y_test, output_shape)"
   ]
  },
  {
   "cell_type": "code",
   "execution_count": 41,
   "id": "76d71459",
   "metadata": {},
   "outputs": [
    {
     "name": "stdout",
     "output_type": "stream",
     "text": [
      "Model: \"model_2\"\n",
      "__________________________________________________________________________________________________\n",
      " Layer (type)                   Output Shape         Param #     Connected to                     \n",
      "==================================================================================================\n",
      " input_3 (InputLayer)           [(None, 28, 28, 1)]  0           []                               \n",
      "                                                                                                  \n",
      " b1_cnv2d_1 (Conv2D)            (None, 14, 14, 16)   144         ['input_3[0][0]']                \n",
      "                                                                                                  \n",
      " b1_relu_1 (ReLU)               (None, 14, 14, 16)   0           ['b1_cnv2d_1[0][0]']             \n",
      "                                                                                                  \n",
      " b1_bn_1 (BatchNormalization)   (None, 14, 14, 16)   64          ['b1_relu_1[0][0]']              \n",
      "                                                                                                  \n",
      " b1_cnv2d_2 (Conv2D)            (None, 7, 7, 32)     512         ['b1_bn_1[0][0]']                \n",
      "                                                                                                  \n",
      " b1_relu_2 (ReLU)               (None, 7, 7, 32)     0           ['b1_cnv2d_2[0][0]']             \n",
      "                                                                                                  \n",
      " b1_out (BatchNormalization)    (None, 7, 7, 32)     128         ['b1_relu_2[0][0]']              \n",
      "                                                                                                  \n",
      " b2_cnv2d_1 (Conv2D)            (None, 7, 7, 32)     1024        ['b1_out[0][0]']                 \n",
      "                                                                                                  \n",
      " b2_relu_1 (ReLU)               (None, 7, 7, 32)     0           ['b2_cnv2d_1[0][0]']             \n",
      "                                                                                                  \n",
      " b2_bn_1 (BatchNormalization)   (None, 7, 7, 32)     128         ['b2_relu_1[0][0]']              \n",
      "                                                                                                  \n",
      " add_4 (Add)                    (None, 7, 7, 32)     0           ['b1_out[0][0]',                 \n",
      "                                                                  'b2_bn_1[0][0]']                \n",
      "                                                                                                  \n",
      " b2_cnv2d_2 (Conv2D)            (None, 4, 4, 64)     18432       ['add_4[0][0]']                  \n",
      "                                                                                                  \n",
      " b2_relu_2 (ReLU)               (None, 4, 4, 64)     0           ['b2_cnv2d_2[0][0]']             \n",
      "                                                                                                  \n",
      " b2_bn_2 (BatchNormalization)   (None, 4, 4, 64)     256         ['b2_relu_2[0][0]']              \n",
      "                                                                                                  \n",
      " b3_cnv2d_1 (Conv2D)            (None, 4, 4, 64)     4096        ['b2_bn_2[0][0]']                \n",
      "                                                                                                  \n",
      " b3_relu_1 (ReLU)               (None, 4, 4, 64)     0           ['b3_cnv2d_1[0][0]']             \n",
      "                                                                                                  \n",
      " b3_bn_1 (BatchNormalization)   (None, 4, 4, 64)     256         ['b3_relu_1[0][0]']              \n",
      "                                                                                                  \n",
      " add_5 (Add)                    (None, 4, 4, 64)     0           ['b2_bn_2[0][0]',                \n",
      "                                                                  'b3_bn_1[0][0]']                \n",
      "                                                                                                  \n",
      " b3_cnv2d_2 (Conv2D)            (None, 2, 2, 128)    73728       ['add_5[0][0]']                  \n",
      "                                                                                                  \n",
      " b3_relu_2 (ReLU)               (None, 2, 2, 128)    0           ['b3_cnv2d_2[0][0]']             \n",
      "                                                                                                  \n",
      " b3_out (BatchNormalization)    (None, 2, 2, 128)    512         ['b3_relu_2[0][0]']              \n",
      "                                                                                                  \n",
      " global_average_pooling2d_2 (Gl  (None, 128)         0           ['b3_out[0][0]']                 \n",
      " obalAveragePooling2D)                                                                            \n",
      "                                                                                                  \n",
      " model_output (Dense)           (None, 10)           1290        ['global_average_pooling2d_2[0][0\n",
      "                                                                 ]']                              \n",
      "                                                                                                  \n",
      "==================================================================================================\n",
      "Total params: 100,570\n",
      "Trainable params: 99,898\n",
      "Non-trainable params: 672\n",
      "__________________________________________________________________________________________________\n"
     ]
    },
    {
     "data": {
      "text/plain": [
       "<keras.engine.functional.Functional at 0x19f5d0b89a0>"
      ]
     },
     "execution_count": 41,
     "metadata": {},
     "output_type": "execute_result"
    }
   ],
   "source": [
    "def sample_res_net_v0(input_shape, output_shape):\n",
    "    \"\"\"\n",
    "    :param input_shape: [28, 28, 1]\n",
    "    :param output_shape: 10\n",
    "    :return:\n",
    "    \"\"\"\n",
    "    input = Input(shape=(input_shape[0], input_shape[1], input_shape[2]))\n",
    "\n",
    "    '''block_1'''\n",
    "    b1_cnv2d_1 = Conv2D(filters=16, kernel_size=(3, 3), strides=(2, 2), padding='same',\n",
    "                     use_bias=False, name='b1_cnv2d_1', kernel_initializer='normal')(input)\n",
    "    b1_relu_1 = ReLU(name='b1_relu_1')(b1_cnv2d_1)\n",
    "    b1_bn_1 = BatchNormalization(epsilon=1e-3, momentum=0.999, name='b1_bn_1')(b1_relu_1)  # size: 14*14\n",
    "\n",
    "    b1_cnv2d_2 = Conv2D(filters=32, kernel_size=(1, 1), strides=(2, 2), padding='same',\n",
    "                        use_bias=False, name='b1_cnv2d_2', kernel_initializer='normal')(b1_bn_1)\n",
    "    b1_relu_2 = ReLU(name='b1_relu_2')(b1_cnv2d_2)\n",
    "    b1_out = BatchNormalization(epsilon=1e-3, momentum=0.999, name='b1_out')(b1_relu_2)  # size: 14*14\n",
    "\n",
    "    '''block 2'''\n",
    "    b2_cnv2d_1 = Conv2D(filters=32, kernel_size=(1, 1), strides=(1, 1), padding='same',\n",
    "                        use_bias=False, name='b2_cnv2d_1', kernel_initializer='normal')(b1_out)\n",
    "    b2_relu_1 = ReLU(name='b2_relu_1')(b2_cnv2d_1)\n",
    "    b2_bn_1 = BatchNormalization(epsilon=1e-3, momentum=0.999, name='b2_bn_1')(b2_relu_1)  # size: 14*14\n",
    "\n",
    "    b2_add = add([b1_out, b2_bn_1])  #\n",
    "\n",
    "    b2_cnv2d_2 = Conv2D(filters=64, kernel_size=(3, 3), strides=(2, 2), padding='same',\n",
    "                        use_bias=False, name='b2_cnv2d_2', kernel_initializer='normal')(b2_add)\n",
    "    b2_relu_2 = ReLU(name='b2_relu_2')(b2_cnv2d_2)\n",
    "    b2_out = BatchNormalization(epsilon=1e-3, momentum=0.999, name='b2_bn_2')(b2_relu_2)  # size: 7*7\n",
    "\n",
    "    '''block 3'''\n",
    "    b3_cnv2d_1 = Conv2D(filters=64, kernel_size=(1, 1), strides=(1, 1), padding='same',\n",
    "                        use_bias=False, name='b3_cnv2d_1', kernel_initializer='normal')(b2_out)\n",
    "    b3_relu_1 = ReLU(name='b3_relu_1')(b3_cnv2d_1)\n",
    "    b3_bn_1 = BatchNormalization(epsilon=1e-3, momentum=0.999, name='b3_bn_1')(b3_relu_1)  # size: 7*7\n",
    "\n",
    "    b3_add = add([b2_out, b3_bn_1])  #\n",
    "\n",
    "    b3_cnv2d_2 = Conv2D(filters=128, kernel_size=(3, 3), strides=(2, 2), padding='same',\n",
    "                        use_bias=False, name='b3_cnv2d_2', kernel_initializer='normal')(b3_add)\n",
    "    b3_relu_2 = ReLU(name='b3_relu_2')(b3_cnv2d_2)\n",
    "    b3_out = BatchNormalization(epsilon=1e-3, momentum=0.999, name='b3_out')(b3_relu_2)  # size: 3*3\n",
    "\n",
    "    '''block 4'''\n",
    "    b4_avg_p = GlobalAveragePooling2D()(b3_out)\n",
    "    output = Dense(output_shape, name='model_output', activation='softmax',\n",
    "                   kernel_initializer='he_uniform')(b4_avg_p)\n",
    "\n",
    "    model = Model(input, output)\n",
    "\n",
    "    model_json = model.to_json()\n",
    "\n",
    "    with open(\"sample_res_net_v0.json\", \"w\") as json_file:\n",
    "        json_file.write(model_json)\n",
    "    model.summary()\n",
    "    return model\n",
    "\n",
    "\n",
    "sample_res_net_v0(input_shape, output_shape)"
   ]
  },
  {
   "cell_type": "code",
   "execution_count": 42,
   "id": "98a6dfac",
   "metadata": {},
   "outputs": [
    {
     "name": "stdout",
     "output_type": "stream",
     "text": [
      "Model: \"model_3\"\n",
      "__________________________________________________________________________________________________\n",
      " Layer (type)                   Output Shape         Param #     Connected to                     \n",
      "==================================================================================================\n",
      " input_4 (InputLayer)           [(None, 28, 28, 1)]  0           []                               \n",
      "                                                                                                  \n",
      " b1_cnv2d_1 (Conv2D)            (None, 14, 14, 16)   144         ['input_4[0][0]']                \n",
      "                                                                                                  \n",
      " b1_relu_1 (ReLU)               (None, 14, 14, 16)   0           ['b1_cnv2d_1[0][0]']             \n",
      "                                                                                                  \n",
      " b1_bn_1 (BatchNormalization)   (None, 14, 14, 16)   64          ['b1_relu_1[0][0]']              \n",
      "                                                                                                  \n",
      " b1_cnv2d_2 (Conv2D)            (None, 7, 7, 32)     512         ['b1_bn_1[0][0]']                \n",
      "                                                                                                  \n",
      " b1_relu_2 (ReLU)               (None, 7, 7, 32)     0           ['b1_cnv2d_2[0][0]']             \n",
      "                                                                                                  \n",
      " b1_out (BatchNormalization)    (None, 7, 7, 32)     128         ['b1_relu_2[0][0]']              \n",
      "                                                                                                  \n",
      " b2_cnv2d_1 (Conv2D)            (None, 7, 7, 32)     1024        ['b1_out[0][0]']                 \n",
      "                                                                                                  \n",
      " b2_relu_1 (ReLU)               (None, 7, 7, 32)     0           ['b2_cnv2d_1[0][0]']             \n",
      "                                                                                                  \n",
      " b2_bn_1 (BatchNormalization)   (None, 7, 7, 32)     128         ['b2_relu_1[0][0]']              \n",
      "                                                                                                  \n",
      " add_6 (Add)                    (None, 7, 7, 32)     0           ['b1_out[0][0]',                 \n",
      "                                                                  'b2_bn_1[0][0]']                \n",
      "                                                                                                  \n",
      " b2_cnv2d_2 (Conv2D)            (None, 4, 4, 64)     18432       ['add_6[0][0]']                  \n",
      "                                                                                                  \n",
      " b2_relu_2 (ReLU)               (None, 4, 4, 64)     0           ['b2_cnv2d_2[0][0]']             \n",
      "                                                                                                  \n",
      " b2_bn_2 (BatchNormalization)   (None, 4, 4, 64)     256         ['b2_relu_2[0][0]']              \n",
      "                                                                                                  \n",
      " b3_cnv2d_1 (Conv2D)            (None, 4, 4, 64)     4096        ['b2_bn_2[0][0]']                \n",
      "                                                                                                  \n",
      " b3_relu_1 (ReLU)               (None, 4, 4, 64)     0           ['b3_cnv2d_1[0][0]']             \n",
      "                                                                                                  \n",
      " b3_bn_1 (BatchNormalization)   (None, 4, 4, 64)     256         ['b3_relu_1[0][0]']              \n",
      "                                                                                                  \n",
      " add_7 (Add)                    (None, 4, 4, 64)     0           ['b2_bn_2[0][0]',                \n",
      "                                                                  'b3_bn_1[0][0]']                \n",
      "                                                                                                  \n",
      " b3_cnv2d_2 (Conv2D)            (None, 2, 2, 128)    73728       ['add_7[0][0]']                  \n",
      "                                                                                                  \n",
      " b3_relu_2 (ReLU)               (None, 2, 2, 128)    0           ['b3_cnv2d_2[0][0]']             \n",
      "                                                                                                  \n",
      " b3_out (BatchNormalization)    (None, 2, 2, 128)    512         ['b3_relu_2[0][0]']              \n",
      "                                                                                                  \n",
      " global_average_pooling2d_3 (Gl  (None, 128)         0           ['b3_out[0][0]']                 \n",
      " obalAveragePooling2D)                                                                            \n",
      "                                                                                                  \n",
      " model_output (Dense)           (None, 10)           1290        ['global_average_pooling2d_3[0][0\n",
      "                                                                 ]']                              \n",
      "                                                                                                  \n",
      "==================================================================================================\n",
      "Total params: 100,570\n",
      "Trainable params: 99,898\n",
      "Non-trainable params: 672\n",
      "__________________________________________________________________________________________________\n"
     ]
    }
   ],
   "source": [
    "model_1 = sample_res_net_v0(input_shape=input_shape, output_shape=output_shape)"
   ]
  },
  {
   "cell_type": "code",
   "execution_count": 43,
   "id": "165ab991",
   "metadata": {},
   "outputs": [],
   "source": [
    "model_1.compile(loss='categorical_crossentropy',\n",
    "                        optimizer=Adam(),\n",
    "                        metrics=['accuracy'])"
   ]
  },
  {
   "cell_type": "code",
   "execution_count": 44,
   "id": "c5753ca8",
   "metadata": {},
   "outputs": [
    {
     "name": "stdout",
     "output_type": "stream",
     "text": [
      "Epoch 1/10\n",
      "550/550 [==============================] - 19s 32ms/step - loss: 0.2265 - accuracy: 0.9322 - val_loss: 2.5401 - val_accuracy: 0.0988\n",
      "Epoch 2/10\n",
      "550/550 [==============================] - 16s 29ms/step - loss: 0.0723 - accuracy: 0.9782 - val_loss: 3.0100 - val_accuracy: 0.0992\n",
      "Epoch 3/10\n",
      "550/550 [==============================] - 16s 29ms/step - loss: 0.0497 - accuracy: 0.9848 - val_loss: 3.7247 - val_accuracy: 0.1874\n",
      "Epoch 4/10\n",
      "550/550 [==============================] - 16s 29ms/step - loss: 0.0386 - accuracy: 0.9875 - val_loss: 4.8337 - val_accuracy: 0.1104\n",
      "Epoch 5/10\n",
      "550/550 [==============================] - 16s 29ms/step - loss: 0.0294 - accuracy: 0.9913 - val_loss: 3.9577 - val_accuracy: 0.1708\n",
      "Epoch 6/10\n",
      "550/550 [==============================] - 16s 29ms/step - loss: 0.0235 - accuracy: 0.9928 - val_loss: 2.0933 - val_accuracy: 0.4532\n",
      "Epoch 7/10\n",
      "550/550 [==============================] - 17s 30ms/step - loss: 0.0209 - accuracy: 0.9936 - val_loss: 1.3082 - val_accuracy: 0.6554\n",
      "Epoch 8/10\n",
      "550/550 [==============================] - 17s 30ms/step - loss: 0.0178 - accuracy: 0.9947 - val_loss: 0.7732 - val_accuracy: 0.8318\n",
      "Epoch 9/10\n",
      "550/550 [==============================] - 16s 29ms/step - loss: 0.0152 - accuracy: 0.9949 - val_loss: 0.1898 - val_accuracy: 0.9370\n",
      "Epoch 10/10\n",
      "550/550 [==============================] - 16s 30ms/step - loss: 0.0129 - accuracy: 0.9957 - val_loss: 0.0736 - val_accuracy: 0.9798\n"
     ]
    }
   ],
   "source": [
    "history = model_1.fit(x_train, y_train,\n",
    "                              batch_size=100,\n",
    "                              epochs=10,\n",
    "                              validation_data=(x_val, y_val))"
   ]
  },
  {
   "cell_type": "code",
   "execution_count": 45,
   "id": "f05c9da6",
   "metadata": {},
   "outputs": [
    {
     "name": "stdout",
     "output_type": "stream",
     "text": [
      "INFO:tensorflow:Assets written to: res_model.hd5\\assets\n"
     ]
    },
    {
     "name": "stderr",
     "output_type": "stream",
     "text": [
      "C:\\Users\\Rana\\anaconda3\\lib\\site-packages\\keras\\engine\\functional.py:1410: CustomMaskWarning: Custom mask layers require a config and must override get_config. When loading, the custom mask layer must be passed to the custom_objects argument.\n",
      "  layer_config = serialize_layer_fn(layer)\n",
      "C:\\Users\\Rana\\anaconda3\\lib\\site-packages\\keras\\saving\\saved_model\\layer_serialization.py:112: CustomMaskWarning: Custom mask layers require a config and must override get_config. When loading, the custom mask layer must be passed to the custom_objects argument.\n",
      "  return generic_utils.serialize_keras_object(obj)\n"
     ]
    }
   ],
   "source": [
    "model_1.save(\"res_model.hd5\")"
   ]
  },
  {
   "cell_type": "code",
   "execution_count": 46,
   "id": "5435eb9f",
   "metadata": {},
   "outputs": [],
   "source": [
    "def show_figures(history):\n",
    "        plt.plot(history['accuracy'])\n",
    "        plt.plot(history['val_accuracy'])\n",
    "        plt.title('model accuracy')\n",
    "        plt.ylabel('accuracy')\n",
    "        plt.xlabel('epoch')\n",
    "        plt.legend(['train', 'validation'])\n",
    "        plt.savefig('accuracy')\n"
   ]
  },
  {
   "cell_type": "code",
   "execution_count": 47,
   "id": "6ba62f2c",
   "metadata": {},
   "outputs": [
    {
     "data": {
      "image/png": "[encoded data removed]",
      "text/plain": [
       "<Figure size 432x288 with 1 Axes>"
      ]
     },
     "metadata": {
      "needs_background": "light"
     },
     "output_type": "display_data"
    }
   ],
   "source": [
    "show_figures(history.history)"
   ]
  },
  {
   "cell_type": "code",
   "execution_count": 48,
   "id": "b5a03e33",
   "metadata": {},
   "outputs": [
    {
     "data": {
      "image/png": "[encoded data removed]",
      "text/plain": [
       "<Figure size 432x288 with 1 Axes>"
      ]
     },
     "metadata": {
      "needs_background": "light"
     },
     "output_type": "display_data"
    }
   ],
   "source": [
    "\n",
    "def show_figures(history):\n",
    "    plt.plot(history['loss'])\n",
    "    plt.plot(history['val_loss'])\n",
    "    plt.title('model loss')\n",
    "    plt.ylabel('loss')\n",
    "    plt.xlabel('epoch')\n",
    "    plt.legend(['train', 'validation'])\n",
    "    plt.savefig('loss')\n",
    "    \n",
    "show_figures(history.history)"
   ]
  }
 ],
 "metadata": {
  "kernelspec": {
   "display_name": "Python 3",
   "language": "python",
   "name": "python3"
  },
  "language_info": {
   "codemirror_mode": {
    "name": "ipython",
    "version": 3
   },
   "file_extension": ".py",
   "mimetype": "text/x-python",
   "name": "python",
   "nbconvert_exporter": "python",
   "pygments_lexer": "ipython3",
   "version": "3.8.8"
  }
 },
 "nbformat": 4,
 "nbformat_minor": 5
}
