{
 "cells": [
  {
   "cell_type": "code",
   "execution_count": 3,
   "id": "8124e59c",
   "metadata": {},
   "outputs": [],
   "source": [
    "from tensorflow.keras import layers\n",
    "import tensorflow_addons as tfa\n",
    "import tensorflow as tf\n",
    "\n",
    "import numpy as np\n",
    "import matplotlib.pyplot as plt\n",
    "\n",
    "tf.random.set_seed(42)\n",
    "np.random.seed(42)"
   ]
  },
  {
   "cell_type": "code",
   "execution_count": 4,
   "id": "ffa289e9",
   "metadata": {},
   "outputs": [],
   "source": [
    "(x_train, y_train), (x_test, y_test) = tf.keras.datasets.fashion_mnist.load_data()\n",
    "\n",
    "x_train = np.expand_dims(x_train, -1)\n",
    "x_test = np.expand_dims(x_test, -1)"
   ]
  },
  {
   "cell_type": "code",
   "execution_count": 5,
   "id": "a88fe4fb",
   "metadata": {},
   "outputs": [
    {
     "data": {
      "text/plain": [
       "(60000, 28, 28, 1)"
      ]
     },
     "execution_count": 5,
     "metadata": {},
     "output_type": "execute_result"
    }
   ],
   "source": [
    "x_train.shape"
   ]
  },
  {
   "cell_type": "code",
   "execution_count": 6,
   "id": "67d5d001",
   "metadata": {},
   "outputs": [
    {
     "data": {
      "text/plain": [
       "(10000, 28, 28, 1)"
      ]
     },
     "execution_count": 6,
     "metadata": {},
     "output_type": "execute_result"
    }
   ],
   "source": [
    "x_test.shape"
   ]
  },
  {
   "cell_type": "code",
   "execution_count": 7,
   "id": "2d6f1f93",
   "metadata": {},
   "outputs": [],
   "source": [
    "BATCH_SIZE = 64\n",
    "EPOCHS = 10\n",
    "INIT_LR = 1e-4\n",
    "MAX_LR = 1e-2"
   ]
  },
  {
   "cell_type": "code",
   "execution_count": 8,
   "id": "d8c3c4db",
   "metadata": {},
   "outputs": [],
   "source": [
    "def get_training_model():\n",
    "    model = tf.keras.Sequential(\n",
    "        [\n",
    "            layers.InputLayer((28, 28, 1)),\n",
    "            layers.experimental.preprocessing.Rescaling(scale=1./255),\n",
    "            layers.Conv2D(16, (5, 5), activation=\"relu\"),\n",
    "            layers.MaxPooling2D(pool_size=(2, 2)),\n",
    "            layers.Conv2D(32, (5, 5), activation=\"relu\"),\n",
    "            layers.MaxPooling2D(pool_size=(2, 2)),\n",
    "            layers.SpatialDropout2D(0.2),\n",
    "            layers.GlobalAvgPool2D(),\n",
    "            layers.Dense(128, activation=\"relu\"),\n",
    "            layers.Dense(10, activation=\"softmax\"),\n",
    "        ]\n",
    "    )\n",
    "    return model\n",
    "\n",
    "def train_model(model, optimizer):\n",
    "    model.compile(loss=\"sparse_categorical_crossentropy\", optimizer=optimizer,\n",
    "                       metrics=[\"accuracy\"])\n",
    "    history = model.fit(x_train,\n",
    "        y_train,\n",
    "        batch_size=BATCH_SIZE,\n",
    "        validation_data=(x_test, y_test),\n",
    "        epochs=EPOCHS)\n",
    "    return history"
   ]
  },
  {
   "cell_type": "code",
   "execution_count": 9,
   "id": "dcca043b",
   "metadata": {},
   "outputs": [
    {
     "name": "stdout",
     "output_type": "stream",
     "text": [
      "WARNING:tensorflow:Compiled the loaded model, but the compiled metrics have yet to be built. `model.compile_metrics` will be empty until you train or evaluate the model.\n",
      "INFO:tensorflow:Assets written to: initial_model\\assets\n"
     ]
    }
   ],
   "source": [
    "initial_model = get_training_model()\n",
    "initial_model.save(\"initial_model\")"
   ]
  },
  {
   "cell_type": "markdown",
   "id": "8ba70b98",
   "metadata": {},
   "source": [
    "## Train model without CLR"
   ]
  },
  {
   "cell_type": "code",
   "execution_count": 10,
   "id": "4d203e6d",
   "metadata": {},
   "outputs": [
    {
     "name": "stdout",
     "output_type": "stream",
     "text": [
      "WARNING:tensorflow:No training configuration found in save file, so the model was *not* compiled. Compile it manually.\n",
      "Epoch 1/10\n",
      "938/938 [==============================] - 26s 27ms/step - loss: 2.2091 - accuracy: 0.2182 - val_loss: 1.7597 - val_accuracy: 0.4125\n",
      "Epoch 2/10\n",
      "938/938 [==============================] - 24s 26ms/step - loss: 1.2961 - accuracy: 0.5130 - val_loss: 0.9589 - val_accuracy: 0.6482\n",
      "Epoch 3/10\n",
      "938/938 [==============================] - 24s 26ms/step - loss: 1.0104 - accuracy: 0.6183 - val_loss: 0.9140 - val_accuracy: 0.6589\n",
      "Epoch 4/10\n",
      "938/938 [==============================] - 25s 26ms/step - loss: 0.9277 - accuracy: 0.6567 - val_loss: 0.8479 - val_accuracy: 0.7024\n",
      "Epoch 5/10\n",
      "938/938 [==============================] - 25s 26ms/step - loss: 0.8857 - accuracy: 0.6717 - val_loss: 0.8404 - val_accuracy: 0.6665\n",
      "Epoch 6/10\n",
      "938/938 [==============================] - 24s 26ms/step - loss: 0.8482 - accuracy: 0.6851 - val_loss: 0.7970 - val_accuracy: 0.6828\n",
      "Epoch 7/10\n",
      "938/938 [==============================] - 24s 26ms/step - loss: 0.8219 - accuracy: 0.6940 - val_loss: 0.7608 - val_accuracy: 0.7004\n",
      "Epoch 8/10\n",
      "938/938 [==============================] - 24s 26ms/step - loss: 0.7997 - accuracy: 0.7009 - val_loss: 0.7267 - val_accuracy: 0.7286\n",
      "Epoch 9/10\n",
      "938/938 [==============================] - 24s 26ms/step - loss: 0.7833 - accuracy: 0.7066 - val_loss: 0.7159 - val_accuracy: 0.7446\n",
      "Epoch 10/10\n",
      "938/938 [==============================] - 25s 27ms/step - loss: 0.7640 - accuracy: 0.7133 - val_loss: 0.7014 - val_accuracy: 0.7469\n"
     ]
    }
   ],
   "source": [
    "standard_model = tf.keras.models.load_model(\"initial_model\")\n",
    "no_clr_history = train_model(standard_model, optimizer=\"sgd\")"
   ]
  },
  {
   "cell_type": "markdown",
   "id": "07237d04",
   "metadata": {},
   "source": [
    "## Define CLR schdule"
   ]
  },
  {
   "cell_type": "markdown",
   "id": "99687354",
   "metadata": {},
   "source": [
    "Here, you specify the lower and upper bounds of the learning rate and the schedule will oscillate in between that range ([1e-4, 1e-2] in this case). scale_fn is used to define the function that would scale up and scale down the learning rate within a given cycle. step_size defines the duration of a single cycle. A step_size of 2 means you need a total of 4 iterations to complete one cycle. The recommended value for step_size is as follows:\n",
    "\n",
    "factor * steps_per_epoch where factor lies within the [2, 8] range"
   ]
  },
  {
   "cell_type": "code",
   "execution_count": 11,
   "id": "4ba8ad4b",
   "metadata": {},
   "outputs": [],
   "source": [
    "steps_per_epoch = len(x_train) // BATCH_SIZE\n",
    "clr = tfa.optimizers.CyclicalLearningRate(initial_learning_rate=INIT_LR,\n",
    "    maximal_learning_rate=MAX_LR,\n",
    "    scale_fn=lambda x: 1/(2.**(x-1)),\n",
    "    step_size=2 * steps_per_epoch\n",
    ")\n",
    "optimizer = tf.keras.optimizers.SGD(clr)"
   ]
  },
  {
   "cell_type": "markdown",
   "id": "ad22fff5",
   "metadata": {},
   "source": [
    "## How CLR schdular look like"
   ]
  },
  {
   "cell_type": "code",
   "execution_count": 12,
   "id": "82a50890",
   "metadata": {},
   "outputs": [
    {
     "data": {
      "text/plain": [
       "(10, 937)"
      ]
     },
     "execution_count": 12,
     "metadata": {},
     "output_type": "execute_result"
    }
   ],
   "source": [
    "EPOCHS,steps_per_epoch"
   ]
  },
  {
   "cell_type": "code",
   "execution_count": 13,
   "id": "c80577b4",
   "metadata": {},
   "outputs": [
    {
     "data": {
      "image/png": "[encoded data removed]",
      "text/plain": [
       "<Figure size 432x288 with 1 Axes>"
      ]
     },
     "metadata": {
      "needs_background": "light"
     },
     "output_type": "display_data"
    }
   ],
   "source": [
    "step = np.arange(0, EPOCHS * steps_per_epoch)\n",
    "lr = clr(step)\n",
    "plt.plot(step, lr)\n",
    "plt.xlabel(\"Steps\")\n",
    "plt.ylabel(\"Learning Rate\")\n",
    "plt.show()"
   ]
  },
  {
   "cell_type": "code",
   "execution_count": 14,
   "id": "30a1e9c2",
   "metadata": {},
   "outputs": [
    {
     "data": {
      "image/png": "[encoded data removed]",
      "text/plain": [
       "<Figure size 432x288 with 1 Axes>"
      ]
     },
     "metadata": {
      "needs_background": "light"
     },
     "output_type": "display_data"
    }
   ],
   "source": [
    "step = np.arange(0, 100 * steps_per_epoch)\n",
    "lr = clr(step)\n",
    "plt.plot(step, lr)\n",
    "plt.xlabel(\"Steps\")\n",
    "plt.ylabel(\"Learning Rate\")\n",
    "plt.show()"
   ]
  },
  {
   "cell_type": "code",
   "execution_count": 15,
   "id": "27edcb0f",
   "metadata": {},
   "outputs": [
    {
     "name": "stdout",
     "output_type": "stream",
     "text": [
      "WARNING:tensorflow:No training configuration found in save file, so the model was *not* compiled. Compile it manually.\n",
      "Epoch 1/10\n",
      "938/938 [==============================] - 25s 26ms/step - loss: 2.3005 - accuracy: 0.1165 - val_loss: 2.2852 - val_accuracy: 0.2374\n",
      "Epoch 2/10\n",
      "938/938 [==============================] - 24s 26ms/step - loss: 2.1930 - accuracy: 0.2397 - val_loss: 1.7386 - val_accuracy: 0.4512\n",
      "Epoch 3/10\n",
      "938/938 [==============================] - 24s 26ms/step - loss: 1.3132 - accuracy: 0.5051 - val_loss: 1.0111 - val_accuracy: 0.6493\n",
      "Epoch 4/10\n",
      "938/938 [==============================] - 24s 26ms/step - loss: 1.0748 - accuracy: 0.5935 - val_loss: 0.9492 - val_accuracy: 0.6624\n",
      "Epoch 5/10\n",
      "938/938 [==============================] - 25s 27ms/step - loss: 1.0530 - accuracy: 0.6029 - val_loss: 0.9440 - val_accuracy: 0.6522\n",
      "Epoch 6/10\n",
      "938/938 [==============================] - 24s 26ms/step - loss: 1.0199 - accuracy: 0.6174 - val_loss: 0.9097 - val_accuracy: 0.6622\n",
      "Epoch 7/10\n",
      "938/938 [==============================] - 24s 26ms/step - loss: 0.9779 - accuracy: 0.6345 - val_loss: 0.8783 - val_accuracy: 0.6753\n",
      "Epoch 8/10\n",
      "938/938 [==============================] - 23s 25ms/step - loss: 0.9535 - accuracy: 0.6490 - val_loss: 0.8665 - val_accuracy: 0.6901\n",
      "Epoch 9/10\n",
      "938/938 [==============================] - 24s 25ms/step - loss: 0.9512 - accuracy: 0.6495 - val_loss: 0.8691 - val_accuracy: 0.6868\n",
      "Epoch 10/10\n",
      "938/938 [==============================] - 24s 25ms/step - loss: 0.9425 - accuracy: 0.6525 - val_loss: 0.8571 - val_accuracy: 0.6922\n"
     ]
    }
   ],
   "source": [
    "clr_model = tf.keras.models.load_model(\"initial_model\")\n",
    "clr_history = train_model(clr_model, optimizer=optimizer)"
   ]
  },
  {
   "cell_type": "code",
   "execution_count": 16,
   "id": "c8d7f94c",
   "metadata": {},
   "outputs": [
    {
     "name": "stderr",
     "output_type": "stream",
     "text": [
      "<ipython-input-16-a6bb201b18c7>:20: UserWarning: Matplotlib is currently using module://ipykernel.pylab.backend_inline, which is a non-GUI backend, so cannot show the figure.\n",
      "  fig.show()\n"
     ]
    },
    {
     "data": {
      "image/png": "[encoded data removed]",
      "text/plain": [
       "<Figure size 720x576 with 2 Axes>"
      ]
     },
     "metadata": {
      "needs_background": "light"
     },
     "output_type": "display_data"
    }
   ],
   "source": [
    "(fig, ax) = plt.subplots(2, 1, figsize=(10, 8))\n",
    "\n",
    "ax[0].plot(no_clr_history.history[\"loss\"], label=\"train_loss\")\n",
    "ax[0].plot(no_clr_history.history[\"val_loss\"], label=\"val_loss\")\n",
    "ax[0].set_title(\"No CLR\")\n",
    "ax[0].set_xlabel(\"Epochs\")\n",
    "ax[0].set_ylabel(\"Loss\")\n",
    "ax[0].set_ylim([0, 2.5])\n",
    "ax[0].legend()\n",
    "\n",
    "ax[1].plot(clr_history.history[\"loss\"], label=\"train_loss\")\n",
    "ax[1].plot(clr_history.history[\"val_loss\"], label=\"val_loss\")\n",
    "ax[1].set_title(\"CLR\")\n",
    "ax[1].set_xlabel(\"Epochs\")\n",
    "ax[1].set_ylabel(\"Loss\")\n",
    "ax[1].set_ylim([0, 2.5])\n",
    "ax[1].legend()\n",
    "\n",
    "fig.tight_layout(pad=3.0)\n",
    "fig.show()"
   ]
  },
  {
   "cell_type": "markdown",
   "id": "1e209786",
   "metadata": {},
   "source": [
    "# Even though for this toy example, you did not see the effects of CLR much but be noted that it is one of the main ingredients behind Super Convergence and can have a really good impact when training in large-scale settings"
   ]
  },
  {
   "cell_type": "code",
   "execution_count": null,
   "id": "ba94204e",
   "metadata": {},
   "outputs": [],
   "source": []
  }
 ],
 "metadata": {
  "kernelspec": {
   "display_name": "Python 3",
   "language": "python",
   "name": "python3"
  },
  "language_info": {
   "codemirror_mode": {
    "name": "ipython",
    "version": 3
   },
   "file_extension": ".py",
   "mimetype": "text/x-python",
   "name": "python",
   "nbconvert_exporter": "python",
   "pygments_lexer": "ipython3",
   "version": "3.8.8"
  }
 },
 "nbformat": 4,
 "nbformat_minor": 5
}
