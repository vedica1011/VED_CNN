{
 "cells": [
  {
   "cell_type": "code",
   "execution_count": 14,
   "id": "d4a61632",
   "metadata": {},
   "outputs": [],
   "source": [
    "from tensorflow.keras.models import Sequential\n",
    "from tensorflow.keras.layers import Conv2D\n",
    "from tensorflow.keras.layers import MaxPooling2D\n",
    "from tensorflow.keras.layers import Flatten\n",
    "from tensorflow.keras.layers import Dense\n",
    "from tensorflow.keras.callbacks import ReduceLROnPlateau\n",
    "from tensorflow.keras.preprocessing.image import load_img\n",
    "import numpy as np"
   ]
  },
  {
   "cell_type": "code",
   "execution_count": 2,
   "id": "85449e3b",
   "metadata": {},
   "outputs": [],
   "source": [
    "classifier = Sequential()\n",
    "# Step 1 - Convolution\n",
    "classifier.add(Conv2D(32, (3, 3), input_shape = (64, 64, 3), activation = 'relu'))\n",
    "# Step 2 - Pooling\n",
    "classifier.add(MaxPooling2D(pool_size = (2, 2)))\n",
    "# Adding a second convolutional layer\n",
    "# Step 3 - Flattening\n",
    "classifier.add(Flatten())\n",
    "# Step 4 - Full connection\n",
    "classifier.add(Dense(units = 128, activation = 'relu'))\n",
    "classifier.add(Dense(units = 1, activation = 'sigmoid'))\n",
    "# Compiling the CNN\n",
    "classifier.compile(optimizer = 'adam', loss = 'binary_crossentropy', metrics = ['accuracy'])"
   ]
  },
  {
   "cell_type": "code",
   "execution_count": 3,
   "id": "944bce11",
   "metadata": {},
   "outputs": [],
   "source": [
    "from tensorflow.keras.preprocessing.image import ImageDataGenerator\n",
    "train_datagen = ImageDataGenerator(rescale = 1./255,\n",
    "                                   shear_range = 0.2,\n",
    "                                   zoom_range = 0.2,\n",
    "                                   horizontal_flip = True)\n",
    "test_datagen = ImageDataGenerator(rescale = 1./255)"
   ]
  },
  {
   "cell_type": "code",
   "execution_count": 4,
   "id": "29d45490",
   "metadata": {},
   "outputs": [
    {
     "name": "stdout",
     "output_type": "stream",
     "text": [
      "Found 2000 images belonging to 2 classes.\n",
      "Found 1000 images belonging to 2 classes.\n"
     ]
    }
   ],
   "source": [
    "training_set = train_datagen.flow_from_directory(r'C:\\Users\\Rana\\PycharmProjects\\dogcat\\cats_and_dogs_filtered\\train',\n",
    "                                                 target_size = (64, 64),\n",
    "                                                 batch_size = 32,\n",
    "                                                 class_mode = 'binary')\n",
    "\n",
    "test_set = test_datagen.flow_from_directory(r'C:\\Users\\Rana\\PycharmProjects\\dogcat\\cats_and_dogs_filtered\\validation',\n",
    "                                            target_size = (64, 64),\n",
    "                                            batch_size = 32,\n",
    "                                            class_mode = 'binary')"
   ]
  },
  {
   "cell_type": "code",
   "execution_count": 22,
   "id": "88fbf152",
   "metadata": {},
   "outputs": [
    {
     "name": "stdout",
     "output_type": "stream",
     "text": [
      "{'cats': 0, 'dogs': 1}\n",
      "{0: 'cats', 1: 'dogs'}\n"
     ]
    }
   ],
   "source": [
    "print(test_set.class_indices)\n",
    "class2index = test_set.class_indices\n",
    "\n",
    "index2class = {v: k for k, v in class2index.items()}\n",
    "print(index2class)"
   ]
  },
  {
   "cell_type": "code",
   "execution_count": 11,
   "id": "3280d026",
   "metadata": {},
   "outputs": [],
   "source": [
    "learning_rate_reduction = ReduceLROnPlateau(monitor='val_acc',\n",
    "                                            patience=1,\n",
    "                                            verbose=1,\n",
    "                                            factor=0.25,\n",
    "                                            min_lr=0.000003)"
   ]
  },
  {
   "cell_type": "code",
   "execution_count": 31,
   "id": "eceb4711",
   "metadata": {},
   "outputs": [
    {
     "name": "stdout",
     "output_type": "stream",
     "text": [
      "Epoch 1/50\n",
      "63/63 [==============================] - ETA: 0s - loss: 0.3604 - accuracy: 0.8495WARNING:tensorflow:Learning rate reduction is conditioned on metric `val_acc` which is not available. Available metrics are: loss,accuracy,val_loss,val_accuracy,lr\n",
      "63/63 [==============================] - 9s 135ms/step - loss: 0.3604 - accuracy: 0.8495 - val_loss: 0.5879 - val_accuracy: 0.7380 - lr: 0.0010\n",
      "Epoch 2/50\n",
      "63/63 [==============================] - ETA: 0s - loss: 0.3295 - accuracy: 0.8625WARNING:tensorflow:Learning rate reduction is conditioned on metric `val_acc` which is not available. Available metrics are: loss,accuracy,val_loss,val_accuracy,lr\n",
      "63/63 [==============================] - 9s 137ms/step - loss: 0.3295 - accuracy: 0.8625 - val_loss: 0.6141 - val_accuracy: 0.7320 - lr: 0.0010\n",
      "Epoch 3/50\n",
      "63/63 [==============================] - ETA: 0s - loss: 0.3335 - accuracy: 0.8565WARNING:tensorflow:Learning rate reduction is conditioned on metric `val_acc` which is not available. Available metrics are: loss,accuracy,val_loss,val_accuracy,lr\n",
      "63/63 [==============================] - 9s 137ms/step - loss: 0.3335 - accuracy: 0.8565 - val_loss: 0.6123 - val_accuracy: 0.7220 - lr: 0.0010\n",
      "Epoch 4/50\n",
      "63/63 [==============================] - ETA: 0s - loss: 0.3095 - accuracy: 0.8640WARNING:tensorflow:Learning rate reduction is conditioned on metric `val_acc` which is not available. Available metrics are: loss,accuracy,val_loss,val_accuracy,lr\n",
      "63/63 [==============================] - 8s 130ms/step - loss: 0.3095 - accuracy: 0.8640 - val_loss: 0.6475 - val_accuracy: 0.7280 - lr: 0.0010\n",
      "Epoch 5/50\n",
      "63/63 [==============================] - ETA: 0s - loss: 0.3283 - accuracy: 0.8620WARNING:tensorflow:Learning rate reduction is conditioned on metric `val_acc` which is not available. Available metrics are: loss,accuracy,val_loss,val_accuracy,lr\n",
      "63/63 [==============================] - 9s 138ms/step - loss: 0.3283 - accuracy: 0.8620 - val_loss: 0.6635 - val_accuracy: 0.7120 - lr: 0.0010\n",
      "Epoch 6/50\n",
      "63/63 [==============================] - ETA: 0s - loss: 0.3091 - accuracy: 0.8670WARNING:tensorflow:Learning rate reduction is conditioned on metric `val_acc` which is not available. Available metrics are: loss,accuracy,val_loss,val_accuracy,lr\n",
      "63/63 [==============================] - 8s 122ms/step - loss: 0.3091 - accuracy: 0.8670 - val_loss: 0.6476 - val_accuracy: 0.7210 - lr: 0.0010\n",
      "Epoch 7/50\n",
      "63/63 [==============================] - ETA: 0s - loss: 0.3072 - accuracy: 0.8620WARNING:tensorflow:Learning rate reduction is conditioned on metric `val_acc` which is not available. Available metrics are: loss,accuracy,val_loss,val_accuracy,lr\n",
      "63/63 [==============================] - 8s 132ms/step - loss: 0.3072 - accuracy: 0.8620 - val_loss: 0.7734 - val_accuracy: 0.7170 - lr: 0.0010\n",
      "Epoch 8/50\n",
      "63/63 [==============================] - ETA: 0s - loss: 0.2935 - accuracy: 0.8870 ETA: 1s - loss: 0WARNING:tensorflow:Learning rate reduction is conditioned on metric `val_acc` which is not available. Available metrics are: loss,accuracy,val_loss,val_accuracy,lr\n",
      "63/63 [==============================] - 9s 145ms/step - loss: 0.2935 - accuracy: 0.8870 - val_loss: 0.6653 - val_accuracy: 0.7340 - lr: 0.0010\n",
      "Epoch 9/50\n",
      "63/63 [==============================] - ETA: 0s - loss: 0.2973 - accuracy: 0.8600WARNING:tensorflow:Learning rate reduction is conditioned on metric `val_acc` which is not available. Available metrics are: loss,accuracy,val_loss,val_accuracy,lr\n",
      "63/63 [==============================] - 8s 130ms/step - loss: 0.2973 - accuracy: 0.8600 - val_loss: 0.6867 - val_accuracy: 0.7320 - lr: 0.0010\n",
      "Epoch 10/50\n",
      "63/63 [==============================] - ETA: 0s - loss: 0.2809 - accuracy: 0.8830WARNING:tensorflow:Learning rate reduction is conditioned on metric `val_acc` which is not available. Available metrics are: loss,accuracy,val_loss,val_accuracy,lr\n",
      "63/63 [==============================] - 8s 134ms/step - loss: 0.2809 - accuracy: 0.8830 - val_loss: 0.6263 - val_accuracy: 0.7510 - lr: 0.0010\n",
      "Epoch 11/50\n",
      "63/63 [==============================] - ETA: 0s - loss: 0.2987 - accuracy: 0.8680WARNING:tensorflow:Learning rate reduction is conditioned on metric `val_acc` which is not available. Available metrics are: loss,accuracy,val_loss,val_accuracy,lr\n",
      "63/63 [==============================] - 9s 135ms/step - loss: 0.2987 - accuracy: 0.8680 - val_loss: 0.6278 - val_accuracy: 0.7410 - lr: 0.0010\n",
      "Epoch 12/50\n",
      "63/63 [==============================] - ETA: 0s - loss: 0.2663 - accuracy: 0.8800WARNING:tensorflow:Learning rate reduction is conditioned on metric `val_acc` which is not available. Available metrics are: loss,accuracy,val_loss,val_accuracy,lr\n",
      "63/63 [==============================] - 9s 144ms/step - loss: 0.2663 - accuracy: 0.8800 - val_loss: 0.6314 - val_accuracy: 0.7520 - lr: 0.0010\n",
      "Epoch 13/50\n",
      "63/63 [==============================] - ETA: 0s - loss: 0.2604 - accuracy: 0.8910WARNING:tensorflow:Learning rate reduction is conditioned on metric `val_acc` which is not available. Available metrics are: loss,accuracy,val_loss,val_accuracy,lr\n",
      "63/63 [==============================] - 8s 135ms/step - loss: 0.2604 - accuracy: 0.8910 - val_loss: 0.6826 - val_accuracy: 0.7400 - lr: 0.0010\n",
      "Epoch 14/50\n",
      "63/63 [==============================] - ETA: 0s - loss: 0.2632 - accuracy: 0.8940WARNING:tensorflow:Learning rate reduction is conditioned on metric `val_acc` which is not available. Available metrics are: loss,accuracy,val_loss,val_accuracy,lr\n",
      "63/63 [==============================] - 9s 145ms/step - loss: 0.2632 - accuracy: 0.8940 - val_loss: 0.6723 - val_accuracy: 0.7240 - lr: 0.0010\n",
      "Epoch 15/50\n",
      "63/63 [==============================] - ETA: 0s - loss: 0.2661 - accuracy: 0.8820 ETA: 0s - loss: 0.2707 - accuracyWARNING:tensorflow:Learning rate reduction is conditioned on metric `val_acc` which is not available. Available metrics are: loss,accuracy,val_loss,val_accuracy,lr\n",
      "63/63 [==============================] - 8s 131ms/step - loss: 0.2661 - accuracy: 0.8820 - val_loss: 0.6849 - val_accuracy: 0.7280 - lr: 0.0010\n",
      "Epoch 16/50\n",
      "63/63 [==============================] - ETA: 0s - loss: 0.2466 - accuracy: 0.9030WARNING:tensorflow:Learning rate reduction is conditioned on metric `val_acc` which is not available. Available metrics are: loss,accuracy,val_loss,val_accuracy,lr\n",
      "63/63 [==============================] - 8s 134ms/step - loss: 0.2466 - accuracy: 0.9030 - val_loss: 0.6556 - val_accuracy: 0.7460 - lr: 0.0010\n",
      "Epoch 17/50\n",
      "63/63 [==============================] - ETA: 0s - loss: 0.2623 - accuracy: 0.8940WARNING:tensorflow:Learning rate reduction is conditioned on metric `val_acc` which is not available. Available metrics are: loss,accuracy,val_loss,val_accuracy,lr\n",
      "63/63 [==============================] - 8s 135ms/step - loss: 0.2623 - accuracy: 0.8940 - val_loss: 0.7702 - val_accuracy: 0.7250 - lr: 0.0010\n",
      "Epoch 18/50\n",
      "63/63 [==============================] - ETA: 0s - loss: 0.2423 - accuracy: 0.9040WARNING:tensorflow:Learning rate reduction is conditioned on metric `val_acc` which is not available. Available metrics are: loss,accuracy,val_loss,val_accuracy,lr\n",
      "63/63 [==============================] - 8s 134ms/step - loss: 0.2423 - accuracy: 0.9040 - val_loss: 0.8042 - val_accuracy: 0.7110 - lr: 0.0010\n",
      "Epoch 19/50\n",
      "63/63 [==============================] - ETA: 0s - loss: 0.2284 - accuracy: 0.9120WARNING:tensorflow:Learning rate reduction is conditioned on metric `val_acc` which is not available. Available metrics are: loss,accuracy,val_loss,val_accuracy,lr\n",
      "63/63 [==============================] - 9s 137ms/step - loss: 0.2284 - accuracy: 0.9120 - val_loss: 0.7611 - val_accuracy: 0.7400 - lr: 0.0010\n",
      "Epoch 20/50\n",
      "63/63 [==============================] - ETA: 0s - loss: 0.2156 - accuracy: 0.9160WARNING:tensorflow:Learning rate reduction is conditioned on metric `val_acc` which is not available. Available metrics are: loss,accuracy,val_loss,val_accuracy,lr\n",
      "63/63 [==============================] - 8s 133ms/step - loss: 0.2156 - accuracy: 0.9160 - val_loss: 0.7320 - val_accuracy: 0.7290 - lr: 0.0010\n",
      "Epoch 21/50\n"
     ]
    },
    {
     "name": "stdout",
     "output_type": "stream",
     "text": [
      "63/63 [==============================] - ETA: 0s - loss: 0.2365 - accuracy: 0.9020 ETA: 0s - loss: 0.2374 - accuWARNING:tensorflow:Learning rate reduction is conditioned on metric `val_acc` which is not available. Available metrics are: loss,accuracy,val_loss,val_accuracy,lr\n",
      "63/63 [==============================] - 8s 132ms/step - loss: 0.2365 - accuracy: 0.9020 - val_loss: 0.7277 - val_accuracy: 0.7500 - lr: 0.0010\n",
      "Epoch 22/50\n",
      "63/63 [==============================] - ETA: 0s - loss: 0.2268 - accuracy: 0.9125WARNING:tensorflow:Learning rate reduction is conditioned on metric `val_acc` which is not available. Available metrics are: loss,accuracy,val_loss,val_accuracy,lr\n",
      "63/63 [==============================] - 9s 141ms/step - loss: 0.2268 - accuracy: 0.9125 - val_loss: 0.7558 - val_accuracy: 0.7420 - lr: 0.0010\n",
      "Epoch 23/50\n",
      "63/63 [==============================] - ETA: 0s - loss: 0.2081 - accuracy: 0.9150WARNING:tensorflow:Learning rate reduction is conditioned on metric `val_acc` which is not available. Available metrics are: loss,accuracy,val_loss,val_accuracy,lr\n",
      "63/63 [==============================] - 8s 126ms/step - loss: 0.2081 - accuracy: 0.9150 - val_loss: 0.8312 - val_accuracy: 0.7100 - lr: 0.0010\n",
      "Epoch 24/50\n",
      "63/63 [==============================] - ETA: 0s - loss: 0.2163 - accuracy: 0.9115WARNING:tensorflow:Learning rate reduction is conditioned on metric `val_acc` which is not available. Available metrics are: loss,accuracy,val_loss,val_accuracy,lr\n",
      "63/63 [==============================] - 8s 133ms/step - loss: 0.2163 - accuracy: 0.9115 - val_loss: 0.8924 - val_accuracy: 0.7070 - lr: 0.0010\n",
      "Epoch 25/50\n",
      "63/63 [==============================] - ETA: 0s - loss: 0.2019 - accuracy: 0.9165WARNING:tensorflow:Learning rate reduction is conditioned on metric `val_acc` which is not available. Available metrics are: loss,accuracy,val_loss,val_accuracy,lr\n",
      "63/63 [==============================] - 9s 135ms/step - loss: 0.2019 - accuracy: 0.9165 - val_loss: 0.8494 - val_accuracy: 0.7180 - lr: 0.0010\n",
      "Epoch 26/50\n",
      "63/63 [==============================] - ETA: 0s - loss: 0.1968 - accuracy: 0.9215WARNING:tensorflow:Learning rate reduction is conditioned on metric `val_acc` which is not available. Available metrics are: loss,accuracy,val_loss,val_accuracy,lr\n",
      "63/63 [==============================] - 9s 138ms/step - loss: 0.1968 - accuracy: 0.9215 - val_loss: 0.7834 - val_accuracy: 0.7440 - lr: 0.0010\n",
      "Epoch 27/50\n",
      "63/63 [==============================] - ETA: 0s - loss: 0.2036 - accuracy: 0.9165WARNING:tensorflow:Learning rate reduction is conditioned on metric `val_acc` which is not available. Available metrics are: loss,accuracy,val_loss,val_accuracy,lr\n",
      "63/63 [==============================] - 8s 130ms/step - loss: 0.2036 - accuracy: 0.9165 - val_loss: 0.8719 - val_accuracy: 0.7270 - lr: 0.0010\n",
      "Epoch 28/50\n",
      "63/63 [==============================] - ETA: 0s - loss: 0.1889 - accuracy: 0.9210WARNING:tensorflow:Learning rate reduction is conditioned on metric `val_acc` which is not available. Available metrics are: loss,accuracy,val_loss,val_accuracy,lr\n",
      "63/63 [==============================] - 8s 131ms/step - loss: 0.1889 - accuracy: 0.9210 - val_loss: 0.7966 - val_accuracy: 0.7290 - lr: 0.0010\n",
      "Epoch 29/50\n",
      "63/63 [==============================] - ETA: 0s - loss: 0.1763 - accuracy: 0.9255WARNING:tensorflow:Learning rate reduction is conditioned on metric `val_acc` which is not available. Available metrics are: loss,accuracy,val_loss,val_accuracy,lr\n",
      "63/63 [==============================] - 9s 138ms/step - loss: 0.1763 - accuracy: 0.9255 - val_loss: 0.9450 - val_accuracy: 0.7100 - lr: 0.0010\n",
      "Epoch 30/50\n",
      "63/63 [==============================] - ETA: 0s - loss: 0.1907 - accuracy: 0.9265WARNING:tensorflow:Learning rate reduction is conditioned on metric `val_acc` which is not available. Available metrics are: loss,accuracy,val_loss,val_accuracy,lr\n",
      "63/63 [==============================] - 9s 135ms/step - loss: 0.1907 - accuracy: 0.9265 - val_loss: 0.8273 - val_accuracy: 0.7290 - lr: 0.0010\n",
      "Epoch 31/50\n",
      "63/63 [==============================] - ETA: 0s - loss: 0.1965 - accuracy: 0.9210WARNING:tensorflow:Learning rate reduction is conditioned on metric `val_acc` which is not available. Available metrics are: loss,accuracy,val_loss,val_accuracy,lr\n",
      "63/63 [==============================] - 10s 157ms/step - loss: 0.1965 - accuracy: 0.9210 - val_loss: 0.7708 - val_accuracy: 0.7340 - lr: 0.0010\n",
      "Epoch 32/50\n",
      "63/63 [==============================] - ETA: 0s - loss: 0.1919 - accuracy: 0.9260WARNING:tensorflow:Learning rate reduction is conditioned on metric `val_acc` which is not available. Available metrics are: loss,accuracy,val_loss,val_accuracy,lr\n",
      "63/63 [==============================] - 9s 141ms/step - loss: 0.1919 - accuracy: 0.9260 - val_loss: 0.8447 - val_accuracy: 0.7230 - lr: 0.0010\n",
      "Epoch 33/50\n",
      "63/63 [==============================] - ETA: 0s - loss: 0.1692 - accuracy: 0.9330WARNING:tensorflow:Learning rate reduction is conditioned on metric `val_acc` which is not available. Available metrics are: loss,accuracy,val_loss,val_accuracy,lr\n",
      "63/63 [==============================] - 9s 136ms/step - loss: 0.1692 - accuracy: 0.9330 - val_loss: 0.8095 - val_accuracy: 0.7450 - lr: 0.0010\n",
      "Epoch 34/50\n",
      "63/63 [==============================] - ETA: 0s - loss: 0.1626 - accuracy: 0.9375WARNING:tensorflow:Learning rate reduction is conditioned on metric `val_acc` which is not available. Available metrics are: loss,accuracy,val_loss,val_accuracy,lr\n",
      "63/63 [==============================] - 8s 127ms/step - loss: 0.1626 - accuracy: 0.9375 - val_loss: 0.9123 - val_accuracy: 0.7250 - lr: 0.0010\n",
      "Epoch 35/50\n",
      "63/63 [==============================] - ETA: 0s - loss: 0.1719 - accuracy: 0.9300WARNING:tensorflow:Learning rate reduction is conditioned on metric `val_acc` which is not available. Available metrics are: loss,accuracy,val_loss,val_accuracy,lr\n",
      "63/63 [==============================] - 8s 128ms/step - loss: 0.1719 - accuracy: 0.9300 - val_loss: 0.8306 - val_accuracy: 0.7300 - lr: 0.0010\n",
      "Epoch 36/50\n",
      "63/63 [==============================] - ETA: 0s - loss: 0.1691 - accuracy: 0.9335WARNING:tensorflow:Learning rate reduction is conditioned on metric `val_acc` which is not available. Available metrics are: loss,accuracy,val_loss,val_accuracy,lr\n",
      "63/63 [==============================] - 8s 126ms/step - loss: 0.1691 - accuracy: 0.9335 - val_loss: 0.8447 - val_accuracy: 0.7320 - lr: 0.0010\n",
      "Epoch 37/50\n",
      "63/63 [==============================] - ETA: 0s - loss: 0.1612 - accuracy: 0.9370WARNING:tensorflow:Learning rate reduction is conditioned on metric `val_acc` which is not available. Available metrics are: loss,accuracy,val_loss,val_accuracy,lr\n",
      "63/63 [==============================] - 9s 138ms/step - loss: 0.1612 - accuracy: 0.9370 - val_loss: 0.8119 - val_accuracy: 0.7410 - lr: 0.0010\n",
      "Epoch 38/50\n",
      "63/63 [==============================] - ETA: 0s - loss: 0.1512 - accuracy: 0.9385WARNING:tensorflow:Learning rate reduction is conditioned on metric `val_acc` which is not available. Available metrics are: loss,accuracy,val_loss,val_accuracy,lr\n",
      "63/63 [==============================] - 9s 147ms/step - loss: 0.1512 - accuracy: 0.9385 - val_loss: 0.8363 - val_accuracy: 0.7350 - lr: 0.0010\n",
      "Epoch 39/50\n",
      "63/63 [==============================] - ETA: 0s - loss: 0.1640 - accuracy: 0.9380WARNING:tensorflow:Learning rate reduction is conditioned on metric `val_acc` which is not available. Available metrics are: loss,accuracy,val_loss,val_accuracy,lr\n",
      "63/63 [==============================] - 8s 129ms/step - loss: 0.1640 - accuracy: 0.9380 - val_loss: 0.8796 - val_accuracy: 0.7260 - lr: 0.0010\n",
      "Epoch 40/50\n",
      "63/63 [==============================] - ETA: 0s - loss: 0.1322 - accuracy: 0.9500WARNING:tensorflow:Learning rate reduction is conditioned on metric `val_acc` which is not available. Available metrics are: loss,accuracy,val_loss,val_accuracy,lr\n",
      "63/63 [==============================] - 8s 129ms/step - loss: 0.1322 - accuracy: 0.9500 - val_loss: 0.8487 - val_accuracy: 0.7360 - lr: 0.0010\n",
      "Epoch 41/50\n",
      "63/63 [==============================] - ETA: 0s - loss: 0.1559 - accuracy: 0.9395WARNING:tensorflow:Learning rate reduction is conditioned on metric `val_acc` which is not available. Available metrics are: loss,accuracy,val_loss,val_accuracy,lr\n"
     ]
    },
    {
     "name": "stdout",
     "output_type": "stream",
     "text": [
      "63/63 [==============================] - 9s 137ms/step - loss: 0.1559 - accuracy: 0.9395 - val_loss: 0.8356 - val_accuracy: 0.7380 - lr: 0.0010\n",
      "Epoch 42/50\n",
      "63/63 [==============================] - ETA: 0s - loss: 0.1348 - accuracy: 0.9515WARNING:tensorflow:Learning rate reduction is conditioned on metric `val_acc` which is not available. Available metrics are: loss,accuracy,val_loss,val_accuracy,lr\n",
      "63/63 [==============================] - 8s 133ms/step - loss: 0.1348 - accuracy: 0.9515 - val_loss: 0.8567 - val_accuracy: 0.7290 - lr: 0.0010\n",
      "Epoch 43/50\n",
      "63/63 [==============================] - ETA: 0s - loss: 0.1341 - accuracy: 0.9535WARNING:tensorflow:Learning rate reduction is conditioned on metric `val_acc` which is not available. Available metrics are: loss,accuracy,val_loss,val_accuracy,lr\n",
      "63/63 [==============================] - 8s 133ms/step - loss: 0.1341 - accuracy: 0.9535 - val_loss: 0.9243 - val_accuracy: 0.7180 - lr: 0.0010\n",
      "Epoch 44/50\n",
      "63/63 [==============================] - ETA: 0s - loss: 0.1382 - accuracy: 0.9480WARNING:tensorflow:Learning rate reduction is conditioned on metric `val_acc` which is not available. Available metrics are: loss,accuracy,val_loss,val_accuracy,lr\n",
      "63/63 [==============================] - 9s 136ms/step - loss: 0.1382 - accuracy: 0.9480 - val_loss: 1.0336 - val_accuracy: 0.7280 - lr: 0.0010\n",
      "Epoch 45/50\n",
      "63/63 [==============================] - ETA: 0s - loss: 0.1253 - accuracy: 0.9515WARNING:tensorflow:Learning rate reduction is conditioned on metric `val_acc` which is not available. Available metrics are: loss,accuracy,val_loss,val_accuracy,lr\n",
      "63/63 [==============================] - 9s 139ms/step - loss: 0.1253 - accuracy: 0.9515 - val_loss: 0.9218 - val_accuracy: 0.7420 - lr: 0.0010\n",
      "Epoch 46/50\n",
      "63/63 [==============================] - ETA: 0s - loss: 0.1553 - accuracy: 0.9415WARNING:tensorflow:Learning rate reduction is conditioned on metric `val_acc` which is not available. Available metrics are: loss,accuracy,val_loss,val_accuracy,lr\n",
      "63/63 [==============================] - 8s 133ms/step - loss: 0.1553 - accuracy: 0.9415 - val_loss: 0.9394 - val_accuracy: 0.7330 - lr: 0.0010\n",
      "Epoch 47/50\n",
      "63/63 [==============================] - ETA: 0s - loss: 0.1323 - accuracy: 0.9520WARNING:tensorflow:Learning rate reduction is conditioned on metric `val_acc` which is not available. Available metrics are: loss,accuracy,val_loss,val_accuracy,lr\n",
      "63/63 [==============================] - 8s 132ms/step - loss: 0.1323 - accuracy: 0.9520 - val_loss: 0.9830 - val_accuracy: 0.7300 - lr: 0.0010\n",
      "Epoch 48/50\n",
      "63/63 [==============================] - ETA: 0s - loss: 0.1344 - accuracy: 0.9525WARNING:tensorflow:Learning rate reduction is conditioned on metric `val_acc` which is not available. Available metrics are: loss,accuracy,val_loss,val_accuracy,lr\n",
      "63/63 [==============================] - 8s 132ms/step - loss: 0.1344 - accuracy: 0.9525 - val_loss: 0.9247 - val_accuracy: 0.7530 - lr: 0.0010\n",
      "Epoch 49/50\n",
      "63/63 [==============================] - ETA: 0s - loss: 0.1278 - accuracy: 0.9515WARNING:tensorflow:Learning rate reduction is conditioned on metric `val_acc` which is not available. Available metrics are: loss,accuracy,val_loss,val_accuracy,lr\n",
      "63/63 [==============================] - 8s 134ms/step - loss: 0.1278 - accuracy: 0.9515 - val_loss: 1.0072 - val_accuracy: 0.7370 - lr: 0.0010\n",
      "Epoch 50/50\n",
      "63/63 [==============================] - ETA: 0s - loss: 0.1312 - accuracy: 0.9490WARNING:tensorflow:Learning rate reduction is conditioned on metric `val_acc` which is not available. Available metrics are: loss,accuracy,val_loss,val_accuracy,lr\n",
      "63/63 [==============================] - 8s 135ms/step - loss: 0.1312 - accuracy: 0.9490 - val_loss: 0.9944 - val_accuracy: 0.7260 - lr: 0.0010\n"
     ]
    }
   ],
   "source": [
    "model = classifier.fit(training_set,\n",
    "                         epochs = 50,\n",
    "                         validation_data = test_set,\n",
    "                          callbacks=[learning_rate_reduction])"
   ]
  },
  {
   "cell_type": "code",
   "execution_count": 32,
   "id": "a2c98b75",
   "metadata": {},
   "outputs": [
    {
     "data": {
      "image/png": "[encoded data removed]",
      "text/plain": [
       "<PIL.Image.Image image mode=RGB size=64x64>"
      ]
     },
     "execution_count": 32,
     "metadata": {},
     "output_type": "execute_result"
    }
   ],
   "source": [
    "new_img = load_img(r\"C:\\Users\\Rana\\Downloads\\dog_image.webp\",target_size=(64,64,3))\n",
    "new_img"
   ]
  },
  {
   "cell_type": "code",
   "execution_count": 33,
   "id": "35ee9d24",
   "metadata": {},
   "outputs": [
    {
     "data": {
      "text/plain": [
       "(64, 64, 3)"
      ]
     },
     "execution_count": 33,
     "metadata": {},
     "output_type": "execute_result"
    }
   ],
   "source": [
    "np.array(new_img).shape"
   ]
  },
  {
   "cell_type": "code",
   "execution_count": 34,
   "id": "3b1c6256",
   "metadata": {},
   "outputs": [
    {
     "data": {
      "text/plain": [
       "(1, 64, 64, 3)"
      ]
     },
     "execution_count": 34,
     "metadata": {},
     "output_type": "execute_result"
    }
   ],
   "source": [
    "new_img =  np.expand_dims(new_img,axis=0)\n",
    "new_img.shape"
   ]
  },
  {
   "cell_type": "code",
   "execution_count": 42,
   "id": "2cae39b0",
   "metadata": {},
   "outputs": [
    {
     "name": "stdout",
     "output_type": "stream",
     "text": [
      "dog\n"
     ]
    }
   ],
   "source": [
    "if classifier.predict(new_img)[0][0]==1:\n",
    "    print('dog')\n",
    "else:\n",
    "    print('cat')"
   ]
  }
 ],
 "metadata": {
  "kernelspec": {
   "display_name": "Python 3",
   "language": "python",
   "name": "python3"
  },
  "language_info": {
   "codemirror_mode": {
    "name": "ipython",
    "version": 3
   },
   "file_extension": ".py",
   "mimetype": "text/x-python",
   "name": "python",
   "nbconvert_exporter": "python",
   "pygments_lexer": "ipython3",
   "version": "3.8.8"
  }
 },
 "nbformat": 4,
 "nbformat_minor": 5
}
